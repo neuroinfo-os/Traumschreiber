{
 "cells": [
  {
   "cell_type": "code",
   "execution_count": 1,
   "metadata": {},
   "outputs": [],
   "source": [
    "\n",
    "import pandas as pd\n",
    "import matplotlib.pyplot as plt\n",
    "\n",
    "import os\n",
    "import glob\n",
    "\n",
    "import numpy as np"
   ]
  },
  {
   "cell_type": "code",
   "execution_count": 44,
   "metadata": {},
   "outputs": [
    {
     "name": "stdout",
     "output_type": "stream",
     "text": [
      "last timestamp  11755.0\n",
      "this many entries: 2653\n",
      "package lost: 365.0\n",
      "This many entries we have plus the ones that got lost 3018.0\n",
      "This should cover a timespan of  10612\n",
      "What the TS thinks we should have 12072.0\n"
     ]
    }
   ],
   "source": [
    "# Evaluate the rough amount of values in the original timestamp for individual file \n",
    "file = pd.read_csv(\"22-09-2020_17-05-04_exp7_3.csv\")\n",
    "file = file.iloc[1:]\n",
    "file.columns = file.iloc[0]\n",
    "\n",
    "file = file[1:].apply(pd.to_numeric, errors='ignore')\n",
    "time = file[\"Time\"].tolist()\n",
    "\n",
    "#print(time[0], time[250],time[500],time[750],time[1000],time[1250],time[1500], time[1750],time[2000],time[2250],time[2500])\n",
    "\n",
    "#twofifty = [time[0], time[250],time[500],time[750],time[1000],time[1250],time[1500], time[1750],time[2000],time[2250],time[2500]]\n",
    "#twofifty.reverse()\n",
    "\n",
    "print(\"last timestamp \",time[-1])\n",
    "print(\"this many entries:\", len(time))\n",
    "print(\"package lost:\", sum(file[\"Pkg Loss\"])/3)\n",
    "print(\"This many entries we have plus the ones that got lost\", len(time) + (sum(file[\"Pkg Loss\"])/3))\n",
    "print(\"This should cover a timespan of \", len(time)*4)\n",
    "print(\"What the TS thinks we should have\",(len(time)+sum(file[\"Pkg Loss\"])/3)*4)\n",
    "\n",
    "#\n",
    "# print((sum(twofifty)))\n",
    "# dif = []\n",
    "# for n, i in enumerate(twofifty):\n",
    "#     dif.append(i - twofifty[n+1])\n",
    "#     print(sum(dif)/(n+1)\n",
    "    \n",
    "# try: #find the nearest timestamp (only possible when index is unique)\n",
    "#     start = df.index.get_loc(fro, method = \"nearest\")\n",
    "#     stop = df.index.get_loc(to, method = \"nearest\")\n",
    "\n",
    "# except: #if the data is not evenly spaced, there might be dublicated timestamps. Hack-around required\n",
    "#     # assuming the start/end point is given in msec (specified in function description). \n",
    "#     # In average there should be a new measurement every 4 msec (sampling rate 250 Hz).\n",
    "#     # We calculate the indices that roughly correspond to the desired starting and stopping msecs instead\n",
    "#     samplingInterval = 4 \n",
    "#     start = int(fro/samplingInterval)\n",
    "#     stop = int(to/samplingInterval) \n",
    "# toPlot = df.iloc[start:stop] # cut only relevant part of dataframe for plotting"
   ]
  }
 ],
 "metadata": {
  "kernelspec": {
   "display_name": "Python 3",
   "language": "python",
   "name": "python3"
  },
  "language_info": {
   "codemirror_mode": {
    "name": "ipython",
    "version": 3
   },
   "file_extension": ".py",
   "mimetype": "text/x-python",
   "name": "python",
   "nbconvert_exporter": "python",
   "pygments_lexer": "ipython3",
   "version": "3.7.3"
  }
 },
 "nbformat": 4,
 "nbformat_minor": 4
}
