{
 "cells": [
  {
   "cell_type": "code",
   "execution_count": null,
   "metadata": {},
   "outputs": [],
   "source": [
    "import socket \n",
    "import sys\n",
    "\n",
    "# create of socket for connecting two computer \n",
    "def create_socket():\n",
    "    try:\n",
    "        global host \n",
    "        global port\n",
    "        global s\n",
    "        host=''\n",
    "        port= 9999\n",
    "        s=socket.socket()\n",
    "    except socket.error as msg:\n",
    "        print('socket creation error'+ str(msg))\n",
    "# binding and listing the connection\n",
    "def bind_socket():\n",
    "    global host \n",
    "    global port\n",
    "    global s\n",
    "    print('binding the port '+ str(port))\n",
    "    s.bind((host,port))\n",
    "    s.listen(5)\n",
    "#     except socket.error as msg:\n",
    "#         print('socket binding error'+ str(msg)+'/n'+'retrying ....')\n",
    "#         bind_socket()\n",
    "# Establish connection with client  and socket must listen \n",
    "def socket_accept():\n",
    "    conn,address=s.accept()\n",
    "    print('connection established '+'ip'+address[0]+'port'+str(address[1]))\n",
    "    send_commands(conn)\n",
    "    conn.close()\n",
    "# send a command to a client \n",
    "def send_commands(conn):\n",
    "    while True :\n",
    "        cmd=input()\n",
    "        if cmd=='quit':\n",
    "            conn.close()\n",
    "            s.close()\n",
    "            sys.exit()\n",
    "        if len(str.encode(cmd))>0:\n",
    "            conn.send(str.encode(cmd))\n",
    "            client_respond=str(conn.recv(1024),'utf-8')\n",
    "            print(client_respond,end='')\n",
    "def main():\n",
    "    create_socket()\n",
    "    bind_socket()\n",
    "    socket_accept()\n",
    "main()"
   ]
  }
 ],
 "metadata": {
  "kernelspec": {
   "display_name": "Python 3",
   "language": "python",
   "name": "python3"
  },
  "language_info": {
   "codemirror_mode": {
    "name": "ipython",
    "version": 3
   },
   "file_extension": ".py",
   "mimetype": "text/x-python",
   "name": "python",
   "nbconvert_exporter": "python",
   "pygments_lexer": "ipython3",
   "version": "3.8.2"
  },
  "widgets": {
   "application/vnd.jupyter.widget-state+json": {
    "state": {},
    "version_major": 2,
    "version_minor": 0
   }
  }
 },
 "nbformat": 4,
 "nbformat_minor": 4
}
