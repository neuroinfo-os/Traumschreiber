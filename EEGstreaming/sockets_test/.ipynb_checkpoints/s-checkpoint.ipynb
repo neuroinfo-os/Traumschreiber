{
 "cells": [
  {
   "cell_type": "code",
   "execution_count": 1,
   "metadata": {},
   "outputs": [
    {
     "name": "stdout",
     "output_type": "stream",
     "text": [
      "Waitiing for a Connection..\n",
      "Connected to: 192.168.2.111:37234\n"
     ]
    },
    {
     "data": {
      "application/vnd.jupyter.widget-view+json": {
       "model_id": "e347d23b2c4b46af81e3f16e6b3117c8",
       "version_major": 2,
       "version_minor": 0
      },
      "text/plain": [
       "Canvas(toolbar=Toolbar(toolitems=[('Home', 'Reset original view', 'home', 'home'), ('Back', 'Back to previous …"
      ]
     },
     "metadata": {},
     "output_type": "display_data"
    },
    {
     "ename": "KeyboardInterrupt",
     "evalue": "",
     "output_type": "error",
     "traceback": [
      "\u001b[0;31m---------------------------------------------------------------------------\u001b[0m",
      "\u001b[0;31mKeyboardInterrupt\u001b[0m                         Traceback (most recent call last)",
      "\u001b[0;32m<ipython-input-1-fd688cf964b0>\u001b[0m in \u001b[0;36m<module>\u001b[0;34m\u001b[0m\n\u001b[1;32m     58\u001b[0m             \u001b[0mend\u001b[0m \u001b[0;34m=\u001b[0m \u001b[0;32mFalse\u001b[0m\u001b[0;34m\u001b[0m\u001b[0;34m\u001b[0m\u001b[0m\n\u001b[1;32m     59\u001b[0m     \u001b[0;32mwhile\u001b[0m \u001b[0;32mnot\u001b[0m \u001b[0mend\u001b[0m\u001b[0;34m:\u001b[0m\u001b[0;34m\u001b[0m\u001b[0;34m\u001b[0m\u001b[0m\n\u001b[0;32m---> 60\u001b[0;31m         \u001b[0mresponse\u001b[0m \u001b[0;34m=\u001b[0m \u001b[0mc\u001b[0m\u001b[0;34m.\u001b[0m\u001b[0mrecv\u001b[0m\u001b[0;34m(\u001b[0m\u001b[0;36m1\u001b[0m\u001b[0;34m)\u001b[0m\u001b[0;34m.\u001b[0m\u001b[0mdecode\u001b[0m\u001b[0;34m(\u001b[0m\u001b[0;34m'utf-8'\u001b[0m\u001b[0;34m)\u001b[0m\u001b[0;34m\u001b[0m\u001b[0;34m\u001b[0m\u001b[0m\n\u001b[0m\u001b[1;32m     61\u001b[0m         \u001b[0;32mif\u001b[0m \u001b[0mresponse\u001b[0m \u001b[0;34m!=\u001b[0m \u001b[0;34m\"}\"\u001b[0m\u001b[0;34m:\u001b[0m\u001b[0;34m\u001b[0m\u001b[0;34m\u001b[0m\u001b[0m\n\u001b[1;32m     62\u001b[0m             \u001b[0mchunks\u001b[0m \u001b[0;34m+=\u001b[0m \u001b[0mresponse\u001b[0m\u001b[0;34m\u001b[0m\u001b[0;34m\u001b[0m\u001b[0m\n",
      "\u001b[0;31mKeyboardInterrupt\u001b[0m: "
     ]
    }
   ],
   "source": [
    "# import itertools\n",
    "import json\n",
    "import socket\n",
    "import time\n",
    "\n",
    "import matplotlib.pyplot as plt\n",
    "import matplotlib.animation as animation\n",
    "import seaborn as sns\n",
    "\n",
    "# from _thread import *\n",
    "\n",
    "# %matplotlib widget\n",
    "sns.set_style(\"darkgrid\")  # set seaborn plotting style\n",
    "# palette = itertools.cycle(sns.color_palette(palette=\"muted\"))\n",
    "\n",
    "\n",
    "# HOST = '127.0.0.1'  # Standard loopback interface address (localhost)\n",
    "HOST = \"\"  # accept all connections\n",
    "# HOST = socket.gethostname()  # accept all connections from the outside world\n",
    "PORT = 65432  # Port to listen on (non-privileged ports are > 1023)\n",
    "\n",
    "ss = socket.socket(socket.AF_INET, socket.SOCK_STREAM)\n",
    "try:\n",
    "#     ss.setsockopt(socket.TCP_NODELAY, socket.SO_REUSEADDR, 1)\n",
    "    ss.bind((HOST, PORT))  # associate the socket with an address and port\n",
    "except socket.error as e:\n",
    "    print(str(e))\n",
    "\n",
    "print(\"Waitiing for a Connection..\")\n",
    "ss.listen(5)  # listening socket, ready to accept connections\n",
    "\n",
    "c, address = ss.accept()  # wait for incoming connections\n",
    "print(\"Connected to: \" + address[0] + \":\" + str(address[1]))\n",
    "\n",
    "\n",
    "\n",
    "def plot(data):\n",
    "    for ddict in data:\n",
    "        time = ddict[\"time\"]\n",
    "        for i in range (1, 8):\n",
    "            value = ddict[str(i)]\n",
    "            plt.plot(time,  value, label = f\"ch-{i}\")         \n",
    "\n",
    "start = False\n",
    "end = False\n",
    "chunks = \"\"\n",
    "eeg = []\n",
    "fig = plt.figure()\n",
    "ani = animation.FuncAnimation(fig, plot(eeg), interval=33, blit=True) \n",
    "plt.show()\n",
    "while True:\n",
    "    while not start:\n",
    "        response = c.recv(1).decode('utf-8')\n",
    "        if response == \"{\":\n",
    "            chunks += response\n",
    "            start = True\n",
    "            end = False\n",
    "    while not end:\n",
    "        response = c.recv(1).decode('utf-8')\n",
    "        if response != \"}\":\n",
    "            chunks += response\n",
    "        else:\n",
    "            chunks += response\n",
    "            end = True\n",
    "            start = False\n",
    "            message = chunks.rstrip(\"\\n\").strip()\n",
    "            chunks = \"\"\n",
    "            try:\n",
    "                eeg.append(json.loads(message))\n",
    "            except Exception as e:\n",
    "                print(e)\n",
    "                print(message)\n",
    "ss.close()"
   ]
  }
 ],
 "metadata": {
  "kernelspec": {
   "display_name": "Python 3 (LSL latency analysis)",
   "language": "python",
   "name": "lsl_analysis"
  },
  "language_info": {
   "codemirror_mode": {
    "name": "ipython",
    "version": 3
   },
   "file_extension": ".py",
   "mimetype": "text/x-python",
   "name": "python",
   "nbconvert_exporter": "python",
   "pygments_lexer": "ipython3",
   "version": "3.8.2"
  },
  "widgets": {
   "application/vnd.jupyter.widget-state+json": {
    "state": {
     "58bb8f28322b4987b13d3a6ac1de430f": {
      "model_module": "@jupyter-widgets/base",
      "model_module_version": "1.2.0",
      "model_name": "LayoutModel",
      "state": {}
     },
     "a48dd46ad61c4eab8d64c2caa8a7c313": {
      "model_module": "@jupyter-widgets/base",
      "model_module_version": "1.2.0",
      "model_name": "LayoutModel",
      "state": {}
     },
     "e347d23b2c4b46af81e3f16e6b3117c8": {
      "model_module": "jupyter-matplotlib",
      "model_module_version": "^0.7.2",
      "model_name": "MPLCanvasModel",
      "state": {
       "layout": "IPY_MODEL_58bb8f28322b4987b13d3a6ac1de430f",
       "toolbar": "IPY_MODEL_f7ab865199944523ab3c0d8e43291115",
       "toolbar_position": "left"
      }
     },
     "f7ab865199944523ab3c0d8e43291115": {
      "model_module": "jupyter-matplotlib",
      "model_module_version": "^0.7.2",
      "model_name": "ToolbarModel",
      "state": {
       "layout": "IPY_MODEL_a48dd46ad61c4eab8d64c2caa8a7c313",
       "toolitems": [
        [
         "Home",
         "Reset original view",
         "home",
         "home"
        ],
        [
         "Back",
         "Back to previous view",
         "arrow-left",
         "back"
        ],
        [
         "Forward",
         "Forward to next view",
         "arrow-right",
         "forward"
        ],
        [
         "Pan",
         "Pan axes with left mouse, zoom with right",
         "arrows",
         "pan"
        ],
        [
         "Zoom",
         "Zoom to rectangle",
         "square-o",
         "zoom"
        ],
        [
         "Download",
         "Download plot",
         "floppy-o",
         "save_figure"
        ]
       ]
      }
     }
    },
    "version_major": 2,
    "version_minor": 0
   }
  }
 },
 "nbformat": 4,
 "nbformat_minor": 4
}
